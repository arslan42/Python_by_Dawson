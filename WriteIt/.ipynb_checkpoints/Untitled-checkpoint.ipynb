{
 "cells": [
  {
   "cell_type": "code",
   "execution_count": 1,
   "metadata": {
    "collapsed": false
   },
   "outputs": [
    {
     "name": "stdout",
     "output_type": "stream",
     "text": [
      "Creatin txt file by write() method.\n"
     ]
    }
   ],
   "source": [
    "#demonstrate writing in text file\n",
    "print(\"Creatin txt file by write() method.\")\n",
    "text_file=open(\"write_it.txt\",\"w\",encoding='utf-8')\n",
    "text_file.write(\"String1\\n\")\n",
    "text_file.write(\"String2\\n\")\n",
    "text_file.write(\"String3\\n\")\n",
    "text_file.close()"
   ]
  },
  {
   "cell_type": "code",
   "execution_count": 2,
   "metadata": {
    "collapsed": false
   },
   "outputs": [
    {
     "name": "stdout",
     "output_type": "stream",
     "text": [
      "\n",
      "Reading this file\n",
      "String1\n",
      "String2\n",
      "String3\n",
      "\n"
     ]
    }
   ],
   "source": [
    "print(\"\\nReading this file\")\n",
    "text_file=open(\"write_it.txt\",\"r\",encoding='utf-8')\n",
    "print(text_file.read())\n",
    "text_file.close()"
   ]
  },
  {
   "cell_type": "code",
   "execution_count": 4,
   "metadata": {
    "collapsed": false
   },
   "outputs": [
    {
     "name": "stdout",
     "output_type": "stream",
     "text": [
      "\n",
      "Creatin txt file by writelines() method\n",
      "Reading txt file\n",
      "String1\n",
      "String2\n",
      "String3\n",
      "\n",
      "\n",
      "\n",
      "Press enter to exit\n"
     ]
    },
    {
     "data": {
      "text/plain": [
       "''"
      ]
     },
     "execution_count": 4,
     "metadata": {},
     "output_type": "execute_result"
    }
   ],
   "source": [
    "print(\"\\nCreatin txt file by writelines() method\")\n",
    "text_file=open(\"write_it.txt\",\"w\", encoding='utf-8')\n",
    "lines=[\"String1\\n\",\n",
    "      \"String2\\n\",\n",
    "      \"String3\\n\"]\n",
    "text_file.writelines(lines)\n",
    "text_file.close()\n",
    "print(\"Reading txt file\")\n",
    "text_file=open(\"write_it.txt\",\"r\",encoding='utf-8')\n",
    "print(text_file.read())\n",
    "text_file.close()\n",
    "input(\"\\n\\nPress enter to exit\")"
   ]
  },
  {
   "cell_type": "code",
   "execution_count": null,
   "metadata": {
    "collapsed": true
   },
   "outputs": [],
   "source": []
  }
 ],
 "metadata": {
  "kernelspec": {
   "display_name": "Python 3",
   "language": "python",
   "name": "python3"
  },
  "language_info": {
   "codemirror_mode": {
    "name": "ipython",
    "version": 3
   },
   "file_extension": ".py",
   "mimetype": "text/x-python",
   "name": "python",
   "nbconvert_exporter": "python",
   "pygments_lexer": "ipython3",
   "version": "3.6.3"
  }
 },
 "nbformat": 4,
 "nbformat_minor": 2
}
